{
 "cells": [
  {
   "cell_type": "code",
   "execution_count": 31,
   "metadata": {},
   "outputs": [],
   "source": [
    "from metaflow import Flow"
   ]
  },
  {
   "cell_type": "code",
   "execution_count": 32,
   "metadata": {},
   "outputs": [
    {
     "data": {
      "text/plain": [
       "Run('ClassifierTrainFlow/1718868592691856')"
      ]
     },
     "execution_count": 32,
     "metadata": {},
     "output_type": "execute_result"
    }
   ],
   "source": [
    "run = Flow('ClassifierTrainFlow').latest_run\n",
    "\n",
    "run"
   ]
  },
  {
   "cell_type": "markdown",
   "metadata": {},
   "source": [
    "running the flow once: Run('ClassifierTrainFlow/1718866820750030')\n",
    "\n",
    "running the flow again returns a different run-id: Run('ClassifierTrainFlow/1718868592691856')\n"
   ]
  },
  {
   "cell_type": "code",
   "execution_count": 33,
   "metadata": {},
   "outputs": [
    {
     "data": {
      "text/plain": [
       "array([[1.369e+01, 3.260e+00, 2.540e+00, ..., 9.600e-01, 1.820e+00,\n",
       "        6.800e+02],\n",
       "       [1.269e+01, 1.530e+00, 2.260e+00, ..., 9.600e-01, 2.060e+00,\n",
       "        4.950e+02],\n",
       "       [1.162e+01, 1.990e+00, 2.280e+00, ..., 1.160e+00, 2.960e+00,\n",
       "        3.450e+02],\n",
       "       ...,\n",
       "       [1.242e+01, 1.610e+00, 2.190e+00, ..., 1.060e+00, 2.960e+00,\n",
       "        3.450e+02],\n",
       "       [1.390e+01, 1.680e+00, 2.120e+00, ..., 9.100e-01, 3.330e+00,\n",
       "        9.850e+02],\n",
       "       [1.416e+01, 2.510e+00, 2.480e+00, ..., 6.200e-01, 1.710e+00,\n",
       "        6.600e+02]])"
      ]
     },
     "execution_count": 33,
     "metadata": {},
     "output_type": "execute_result"
    }
   ],
   "source": [
    "run['start'].task.data.train_data"
   ]
  },
  {
   "cell_type": "code",
   "execution_count": 34,
   "metadata": {},
   "outputs": [
    {
     "data": {
      "text/plain": [
       "array([2, 1, 1, 2, 0, 0, 1, 1, 1, 0, 2, 1, 2, 0, 2, 2, 0, 2, 0, 1, 2, 2,\n",
       "       1, 2, 2, 0, 1, 2, 1, 1, 2, 1, 0, 1, 1, 1, 0, 0, 1, 1, 2, 2, 1, 1,\n",
       "       1, 2, 2, 0, 2, 1, 1, 1, 1, 1, 0, 0, 1, 0, 2, 0, 2, 0, 0, 1, 0, 1,\n",
       "       1, 0, 2, 1, 0, 1, 1, 1, 2, 0, 2, 2, 0, 0, 1, 2, 0, 0, 1, 1, 0, 0,\n",
       "       0, 2, 1, 0, 1, 2, 0, 1, 2, 2, 0, 0, 2, 0, 2, 1, 0, 0, 1, 0, 2, 1,\n",
       "       2, 0, 2, 2, 2, 0, 1, 1, 1, 1, 2, 2, 1, 1, 0, 1, 2, 2, 0, 0, 2, 1,\n",
       "       1, 1, 0, 0, 0, 1, 1, 1, 0, 2])"
      ]
     },
     "execution_count": 34,
     "metadata": {},
     "output_type": "execute_result"
    }
   ],
   "source": [
    "run['start'].task.data.train_labels"
   ]
  },
  {
   "cell_type": "code",
   "execution_count": 49,
   "metadata": {},
   "outputs": [
    {
     "data": {
      "text/plain": [
       "'nothingburger'"
      ]
     },
     "execution_count": 49,
     "metadata": {},
     "output_type": "execute_result"
    }
   ],
   "source": [
    "run['end'].task.data.model"
   ]
  },
  {
   "cell_type": "code",
   "execution_count": 35,
   "metadata": {},
   "outputs": [
    {
     "data": {
      "text/plain": [
       "'ClassifierTrainFlow'"
      ]
     },
     "execution_count": 35,
     "metadata": {},
     "output_type": "execute_result"
    }
   ],
   "source": [
    "run['start'].task.data.name"
   ]
  },
  {
   "cell_type": "code",
   "execution_count": 46,
   "metadata": {},
   "outputs": [
    {
     "data": {
      "text/plain": [
       "<MetaflowData: test_data, test_labels, model, name, train_data, train_labels>"
      ]
     },
     "execution_count": 46,
     "metadata": {},
     "output_type": "execute_result"
    }
   ],
   "source": [
    "run['start'].task.data"
   ]
  },
  {
   "cell_type": "code",
   "execution_count": 39,
   "metadata": {},
   "outputs": [
    {
     "name": "stdout",
     "output_type": "stream",
     "text": [
      "Help on Run in module metaflow.client.core object:\n",
      "\n",
      "class Run(MetaflowObject)\n",
      " |  Run(pathspec: Optional[str] = None, attempt: Optional[int] = None, _object: Optional[ForwardRef('MetaflowObject')] = None, _parent: Optional[ForwardRef('MetaflowObject')] = None, _namespace_check: bool = True)\n",
      " |\n",
      " |  A `Run` represents an execution of a `Flow`. It is a container of `Step`s.\n",
      " |\n",
      " |  Attributes\n",
      " |  ----------\n",
      " |  data : MetaflowData\n",
      " |      a shortcut to run['end'].task.data, i.e. data produced by this run.\n",
      " |  successful : bool\n",
      " |      True if the run completed successfully.\n",
      " |  finished : bool\n",
      " |      True if the run completed.\n",
      " |  finished_at : datetime\n",
      " |      Time this run finished.\n",
      " |  code : MetaflowCode\n",
      " |      Code package for this run (if present). See `MetaflowCode`.\n",
      " |  trigger : MetaflowTrigger\n",
      " |      Information about event(s) that triggered this run (if present). See `MetaflowTrigger`.\n",
      " |  end_task : Task\n",
      " |      `Task` for the end step (if it is present already).\n",
      " |\n",
      " |  Method resolution order:\n",
      " |      Run\n",
      " |      MetaflowObject\n",
      " |      builtins.object\n",
      " |\n",
      " |  Methods defined here:\n",
      " |\n",
      " |  __getitem__(self, name: str) -> metaflow.client.core.Step\n",
      " |      Returns the Step object with the step name 'name'\n",
      " |\n",
      " |      Parameters\n",
      " |      ----------\n",
      " |      name : str\n",
      " |          Step name\n",
      " |\n",
      " |      Returns\n",
      " |      -------\n",
      " |      Step\n",
      " |          Step for this step name in this Run\n",
      " |\n",
      " |      Raises\n",
      " |      ------\n",
      " |      KeyError\n",
      " |          If the name does not identify a valid Step object\n",
      " |\n",
      " |  __getstate__(self)\n",
      " |      This function is used during the pickling operation.\n",
      " |      More info here https://docs.python.org/3/library/pickle.html#object.__getstate__\n",
      " |\n",
      " |      This function is not forward compatible i.e., if this object (or any of the objects deriving\n",
      " |      from this object) are pickled (serialized) in a later version of Metaflow, it may not be possible\n",
      " |      to unpickle (deserialize) them in a previous version of Metaflow.\n",
      " |\n",
      " |  __iter__(self) -> Iterator[metaflow.client.core.Step]\n",
      " |      Iterate over all children Step of this Run\n",
      " |\n",
      " |      Yields\n",
      " |      ------\n",
      " |      Step\n",
      " |          A Step in this Run\n",
      " |\n",
      " |  __setstate__(self, state)\n",
      " |      This function is used during the unpickling operation.\n",
      " |      More info here https://docs.python.org/3/library/pickle.html#object.__setstate__\n",
      " |\n",
      " |  add_tag(self, tag: str)\n",
      " |      Add a tag to this `Run`.\n",
      " |\n",
      " |      Note that if the tag is already a system tag, it is not added as a user tag,\n",
      " |      and no error is thrown.\n",
      " |\n",
      " |      Parameters\n",
      " |      ----------\n",
      " |      tag : str\n",
      " |          Tag to add.\n",
      " |\n",
      " |  add_tags(self, tags: Iterable[str])\n",
      " |      Add one or more tags to this `Run`.\n",
      " |\n",
      " |      Note that if any tag is already a system tag, it is not added as a user tag\n",
      " |      and no error is thrown.\n",
      " |\n",
      " |      Parameters\n",
      " |      ----------\n",
      " |      tags : Iterable[str]\n",
      " |          Tags to add.\n",
      " |\n",
      " |  remove_tag(self, tag: str)\n",
      " |      Remove one tag from this `Run`.\n",
      " |\n",
      " |      Removing a system tag is an error. Removing a non-existent\n",
      " |      user tag is a no-op.\n",
      " |\n",
      " |      Parameters\n",
      " |      ----------\n",
      " |      tag : str\n",
      " |          Tag to remove.\n",
      " |\n",
      " |  remove_tags(self, tags: Iterable[str])\n",
      " |      Remove one or more tags to this `Run`.\n",
      " |\n",
      " |      Removing a system tag will result in an error. Removing a non-existent\n",
      " |      user tag is a no-op.\n",
      " |\n",
      " |      Parameters\n",
      " |      ----------\n",
      " |      tags : Iterable[str]\n",
      " |          Tags to remove.\n",
      " |\n",
      " |  replace_tag(self, tag_to_remove: str, tag_to_add: str)\n",
      " |      Remove a tag and add a tag atomically. Removal is done first.\n",
      " |      The rules for `Run.add_tag` and `Run.remove_tag` also apply here.\n",
      " |\n",
      " |      Parameters\n",
      " |      ----------\n",
      " |      tag_to_remove : str\n",
      " |          Tag to remove.\n",
      " |      tag_to_add : str\n",
      " |          Tag to add.\n",
      " |\n",
      " |  replace_tags(self, tags_to_remove: Iterable[str], tags_to_add: Iterable[str])\n",
      " |      Remove and add tags atomically; the removal is done first.\n",
      " |      The rules for `Run.add_tag` and `Run.remove_tag` also apply here.\n",
      " |\n",
      " |      Parameters\n",
      " |      ----------\n",
      " |      tags_to_remove : Iterable[str]\n",
      " |          Tags to remove.\n",
      " |      tags_to_add : Iterable[str]\n",
      " |          Tags to add.\n",
      " |\n",
      " |  steps(self, *tags: str) -> Iterator[metaflow.client.core.Step]\n",
      " |      [Legacy function - do not use]\n",
      " |\n",
      " |      Returns an iterator over all `Step` objects in the step. This is an alias\n",
      " |      to iterating the object itself, i.e.\n",
      " |      ```\n",
      " |      list(Run(...)) == list(Run(...).steps())\n",
      " |      ```\n",
      " |\n",
      " |      Parameters\n",
      " |      ----------\n",
      " |      tags : str\n",
      " |          No op (legacy functionality)\n",
      " |\n",
      " |      Yields\n",
      " |      ------\n",
      " |      Step\n",
      " |          `Step` objects in this run.\n",
      " |\n",
      " |  ----------------------------------------------------------------------\n",
      " |  Readonly properties defined here:\n",
      " |\n",
      " |  code\n",
      " |      Returns the MetaflowCode object for this run, if present.\n",
      " |      Code is packed if atleast one `Step` runs remotely, else None is returned.\n",
      " |\n",
      " |      Returns\n",
      " |      -------\n",
      " |      MetaflowCode, optional\n",
      " |          Code package for this run\n",
      " |\n",
      " |  data\n",
      " |      Returns a container of data artifacts produced by this run.\n",
      " |\n",
      " |      You can access data produced by this run as follows:\n",
      " |      ```\n",
      " |      print(run.data.my_var)\n",
      " |      ```\n",
      " |      This is a shorthand for `run['end'].task.data`. If the 'end' step has not yet\n",
      " |      executed, returns None.\n",
      " |\n",
      " |      Returns\n",
      " |      -------\n",
      " |      MetaflowData, optional\n",
      " |          Container of all artifacts produced by this task\n",
      " |\n",
      " |  end_task\n",
      " |      Returns the Task corresponding to the 'end' step.\n",
      " |\n",
      " |      This returns None if the end step does not yet exist.\n",
      " |\n",
      " |      Returns\n",
      " |      -------\n",
      " |      Task, optional\n",
      " |          The 'end' task\n",
      " |\n",
      " |  finished\n",
      " |      Indicates whether or not the run completed.\n",
      " |\n",
      " |      A run completed if its 'end' step completed.\n",
      " |\n",
      " |      Returns\n",
      " |      -------\n",
      " |      bool\n",
      " |          True if the run completed and False otherwise\n",
      " |\n",
      " |  finished_at\n",
      " |      Returns the datetime object of when the run finished (successfully or not).\n",
      " |\n",
      " |      The completion time of a run is the same as the completion time of its 'end' step.\n",
      " |      If the 'end' step has not completed, returns None.\n",
      " |\n",
      " |      Returns\n",
      " |      -------\n",
      " |      datetime, optional\n",
      " |          Datetime of when the run finished\n",
      " |\n",
      " |  successful\n",
      " |      Indicates whether or not the run completed successfully.\n",
      " |\n",
      " |      A run is successful if its 'end' step is successful.\n",
      " |\n",
      " |      Returns\n",
      " |      -------\n",
      " |      bool\n",
      " |          True if the run completed successfully and False otherwise\n",
      " |\n",
      " |  trigger\n",
      " |      Returns a container of events that triggered this run.\n",
      " |\n",
      " |      This returns None if the run was not triggered by any events.\n",
      " |\n",
      " |      Returns\n",
      " |      -------\n",
      " |      Trigger, optional\n",
      " |          Container of triggering events\n",
      " |\n",
      " |  ----------------------------------------------------------------------\n",
      " |  Methods inherited from MetaflowObject:\n",
      " |\n",
      " |  __contains__(self, id: str)\n",
      " |      Tests whether a child named 'id' exists.\n",
      " |\n",
      " |      Parameters\n",
      " |      ----------\n",
      " |      id : str\n",
      " |          Name of the child object\n",
      " |\n",
      " |      Returns\n",
      " |      -------\n",
      " |      bool\n",
      " |          True if the child exists or False otherwise\n",
      " |\n",
      " |  __init__(self, pathspec: Optional[str] = None, attempt: Optional[int] = None, _object: Optional[ForwardRef('MetaflowObject')] = None, _parent: Optional[ForwardRef('MetaflowObject')] = None, _namespace_check: bool = True)\n",
      " |      Initialize self.  See help(type(self)) for accurate signature.\n",
      " |\n",
      " |  __repr__(self)\n",
      " |      Return repr(self).\n",
      " |\n",
      " |  __str__(self)\n",
      " |      Return str(self).\n",
      " |\n",
      " |  is_in_namespace(self) -> bool\n",
      " |      Returns whether this object is in the current namespace.\n",
      " |\n",
      " |      If the current namespace is None, this will always return True.\n",
      " |\n",
      " |      Returns\n",
      " |      -------\n",
      " |      bool\n",
      " |          Whether or not the object is in the current namespace\n",
      " |\n",
      " |  ----------------------------------------------------------------------\n",
      " |  Readonly properties inherited from MetaflowObject:\n",
      " |\n",
      " |  created_at\n",
      " |      Creation time for this object.\n",
      " |\n",
      " |      This corresponds to the time the object's existence was first created which typically means\n",
      " |      right before any code is run.\n",
      " |\n",
      " |      Returns\n",
      " |      -------\n",
      " |      datetime\n",
      " |          Date time of this object's creation.\n",
      " |\n",
      " |  origin_pathspec\n",
      " |      The pathspec of the object from which the current object was cloned.\n",
      " |\n",
      " |      Returns:\n",
      " |          str, optional\n",
      " |              pathspec of the origin object from which current object was cloned.\n",
      " |\n",
      " |  parent\n",
      " |      Returns the parent object of this object or None if none exists.\n",
      " |\n",
      " |      Returns\n",
      " |      -------\n",
      " |      MetaflowObject, optional\n",
      " |          The parent of this object\n",
      " |\n",
      " |  path_components\n",
      " |      List of individual components of the pathspec.\n",
      " |\n",
      " |      Returns\n",
      " |      -------\n",
      " |      List[str]\n",
      " |          Individual components of the pathspec\n",
      " |\n",
      " |  pathspec\n",
      " |      Returns a string representation uniquely identifying this object.\n",
      " |\n",
      " |      The string is the same as the one you would pass into the constructor\n",
      " |      to build this object except if you are looking for a specific attempt of\n",
      " |      a task or a data artifact (in which case you need to add `attempt=<attempt>`\n",
      " |      in the constructor).\n",
      " |\n",
      " |      Returns\n",
      " |      -------\n",
      " |      str\n",
      " |          Unique representation of this object\n",
      " |\n",
      " |  system_tags\n",
      " |      System defined tags associated with this object.\n",
      " |\n",
      " |      Returns\n",
      " |      -------\n",
      " |      Set[str]\n",
      " |          System tags associated with the object\n",
      " |\n",
      " |  tags\n",
      " |      Tags associated with this object.\n",
      " |\n",
      " |      Tags can be user defined or system defined. This returns all tags associated\n",
      " |      with the object.\n",
      " |\n",
      " |      Returns\n",
      " |      -------\n",
      " |      Set[str]\n",
      " |          Tags associated with the object\n",
      " |\n",
      " |  user_tags\n",
      " |      User defined tags associated with this object.\n",
      " |\n",
      " |      Returns\n",
      " |      -------\n",
      " |      Set[str]\n",
      " |          User tags associated with the object\n",
      " |\n",
      " |  ----------------------------------------------------------------------\n",
      " |  Data descriptors inherited from MetaflowObject:\n",
      " |\n",
      " |  __dict__\n",
      " |      dictionary for instance variables\n",
      " |\n",
      " |  __weakref__\n",
      " |      list of weak references to the object\n",
      "\n"
     ]
    }
   ],
   "source": [
    "help(run)"
   ]
  },
  {
   "cell_type": "code",
   "execution_count": 45,
   "metadata": {},
   "outputs": [
    {
     "data": {
      "text/plain": [
       "datetime.datetime(2024, 6, 20, 17, 29, 52, 697000)"
      ]
     },
     "execution_count": 45,
     "metadata": {},
     "output_type": "execute_result"
    }
   ],
   "source": [
    "run['start'].created_at"
   ]
  },
  {
   "cell_type": "code",
   "execution_count": 47,
   "metadata": {},
   "outputs": [
    {
     "data": {
      "text/plain": [
       "datetime.datetime(2024, 6, 20, 17, 29, 53, 994000)"
      ]
     },
     "execution_count": 47,
     "metadata": {},
     "output_type": "execute_result"
    }
   ],
   "source": [
    "run['end'].created_at"
   ]
  }
 ],
 "metadata": {
  "kernelspec": {
   "display_name": "metaflow_tutorial",
   "language": "python",
   "name": "python3"
  },
  "language_info": {
   "codemirror_mode": {
    "name": "ipython",
    "version": 3
   },
   "file_extension": ".py",
   "mimetype": "text/x-python",
   "name": "python",
   "nbconvert_exporter": "python",
   "pygments_lexer": "ipython3",
   "version": "3.12.3"
  }
 },
 "nbformat": 4,
 "nbformat_minor": 2
}
