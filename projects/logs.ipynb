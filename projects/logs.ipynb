{
 "cells": [
  {
   "cell_type": "code",
   "execution_count": 15,
   "metadata": {},
   "outputs": [
    {
     "name": "stdout",
     "output_type": "stream",
     "text": [
      "Task ClassifierTrainFlow/1718950758756815/train_svm/3 failed:\n",
      "-- Stdout --\n",
      "\n",
      "-- Stderr --\n",
      "<flow ClassifierTrainFlow step train_svm> failed:\n",
      "    Internal error\n",
      "Traceback (most recent call last):\n",
      "  File \"/Users/olivernicholson/anaconda3/envs/metaflow_tutorial/lib/python3.12/site-packages/metaflow/cli.py\", line 1057, in main\n",
      "    start(auto_envvar_prefix=\"METAFLOW\", obj=state)\n",
      "  File \"/Users/olivernicholson/anaconda3/envs/metaflow_tutorial/lib/python3.12/site-packages/metaflow/tracing/__init__.py\", line 27, in wrapper_func\n",
      "    return func(args, kwargs)\n",
      "           ^^^^^^^^^^^^^^^^^^^^^\n",
      "  File \"/Users/olivernicholson/anaconda3/envs/metaflow_tutorial/lib/python3.12/site-packages/metaflow/_vendor/click/core.py\", line 829, in __call__\n",
      "    return self.main(args, kwargs)\n",
      "           ^^^^^^^^^^^^^^^^^^^^^^^^^^\n",
      "  File \"/Users/olivernicholson/anaconda3/envs/metaflow_tutorial/lib/python3.12/site-packages/metaflow/_vendor/click/core.py\", line 782, in main\n",
      "    rv = self.invoke(ctx)\n",
      "         ^^^^^^^^^^^^^^^^\n",
      "  File \"/Users/olivernicholson/anaconda3/envs/metaflow_tutorial/lib/python3.12/site-packages/metaflow/_vendor/click/core.py\", line 1259, in invoke\n",
      "    return _process_result(sub_ctx.command.invoke(sub_ctx))\n",
      "                           ^^^^^^^^^^^^^^^^^^^^^^^^^^^^^^^\n",
      "  File \"/Users/olivernicholson/anaconda3/envs/metaflow_tutorial/lib/python3.12/site-packages/metaflow/_vendor/click/core.py\", line 1066, in invoke\n",
      "    return ctx.invoke(self.callback, ctx.params)\n",
      "           ^^^^^^^^^^^^^^^^^^^^^^^^^^^^^^^^^^^^^^^\n",
      "  File \"/Users/olivernicholson/anaconda3/envs/metaflow_tutorial/lib/python3.12/site-packages/metaflow/_vendor/click/core.py\", line 610, in invoke\n",
      "    return callback(args, kwargs)\n",
      "           ^^^^^^^^^^^^^^^^^^^^^^^^^\n",
      "  File \"/Users/olivernicholson/anaconda3/envs/metaflow_tutorial/lib/python3.12/site-packages/metaflow/_vendor/click/decorators.py\", line 21, in new_func\n",
      "    return f(get_current_context(), args, kwargs)\n",
      "           ^^^^^^^^^^^^^^^^^^^^^^^^^^^^^^^^^^^^^^^^^\n",
      "  File \"/Users/olivernicholson/anaconda3/envs/metaflow_tutorial/lib/python3.12/site-packages/metaflow/cli.py\", line 452, in step\n",
      "    task.run_step(\n",
      "  File \"/Users/olivernicholson/anaconda3/envs/metaflow_tutorial/lib/python3.12/site-packages/metaflow/task.py\", line 608, in run_step\n",
      "    self._exec_step_function(step_func)\n",
      "  File \"/Users/olivernicholson/anaconda3/envs/metaflow_tutorial/lib/python3.12/site-packages/metaflow/task.py\", line 59, in _exec_step_function\n",
      "    step_function()\n",
      "  File \"/Users/olivernicholson/github/metaflow/projects/classifier_train.py\", line 37, in train_svm\n",
      "    self.model.fit(self.train_data, self.train_labels)\n",
      "  File \"/Users/olivernicholson/anaconda3/envs/metaflow_tutorial/lib/python3.12/site-packages/sklearn/base.py\", line 1466, in wrapper\n",
      "    estimator._validate_params()\n",
      "  File \"/Users/olivernicholson/anaconda3/envs/metaflow_tutorial/lib/python3.12/site-packages/sklearn/base.py\", line 666, in _validate_params\n",
      "    validate_parameter_constraints(\n",
      "  File \"/Users/olivernicholson/anaconda3/envs/metaflow_tutorial/lib/python3.12/site-packages/sklearn/utils/_param_validation.py\", line 95, in validate_parameter_constraints\n",
      "    raise InvalidParameterError(\n",
      "sklearn.utils._param_validation.InvalidParameterError: The 'kernel' parameter of SVC must be a str among {'precomputed', 'sigmoid', 'poly', 'rbf', 'linear'} or a callable. Got 'polynomial' instead.\n",
      "\n",
      "Task failed.\n",
      "\n"
     ]
    }
   ],
   "source": [
    "from metaflow import Flow, Run\n",
    "\n",
    "\n",
    "# # Specify the flow name and run ID separately\n",
    "# flow_name = \"ClassifierTrainFlow\"\n",
    "# run_id = \"1718949505628112\"\n",
    "\n",
    "# # Create a Run object using the flow name and run ID\n",
    "# run = Run(f\"{flow_name}/{run_id}\")\n",
    "for step in Run(\"ClassifierTrainFlow/1718950758756815\"):\n",
    "    for task in step:\n",
    "        if not task.successful:\n",
    "            print(\"Task %s failed:\" % task.pathspec)\n",
    "            print('-- Stdout --')\n",
    "            print(task.stdout)\n",
    "            print('-- Stderr --')\n",
    "            print(task.stderr)"
   ]
  }
 ],
 "metadata": {
  "kernelspec": {
   "display_name": "metaflow_tutorial",
   "language": "python",
   "name": "python3"
  },
  "language_info": {
   "codemirror_mode": {
    "name": "ipython",
    "version": 3
   },
   "file_extension": ".py",
   "mimetype": "text/x-python",
   "name": "python",
   "nbconvert_exporter": "python",
   "pygments_lexer": "ipython3",
   "version": "3.1.-1"
  }
 },
 "nbformat": 4,
 "nbformat_minor": 2
}
